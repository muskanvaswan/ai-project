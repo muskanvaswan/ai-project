{
  "nbformat": 4,
  "nbformat_minor": 0,
  "metadata": {
    "colab": {
      "provenance": []
    },
    "kernelspec": {
      "name": "python3",
      "display_name": "Python 3"
    },
    "language_info": {
      "name": "python"
    },
    "widgets": {
      "application/vnd.jupyter.widget-state+json": {
        "63173c65add4436a83eb931f266c40cf": {
          "model_module": "@jupyter-widgets/controls",
          "model_name": "HBoxModel",
          "model_module_version": "1.5.0",
          "state": {
            "_dom_classes": [],
            "_model_module": "@jupyter-widgets/controls",
            "_model_module_version": "1.5.0",
            "_model_name": "HBoxModel",
            "_view_count": null,
            "_view_module": "@jupyter-widgets/controls",
            "_view_module_version": "1.5.0",
            "_view_name": "HBoxView",
            "box_style": "",
            "children": [
              "IPY_MODEL_92bd570bd66a4a7285f78473dbdf3f15",
              "IPY_MODEL_bfdb95d84b6646f19e51066e1f8cd9f8",
              "IPY_MODEL_8cd087f974b74347be10690a9a0f94bc"
            ],
            "layout": "IPY_MODEL_b113e1e98e43453ca7f2dc5afa513bd3"
          }
        },
        "92bd570bd66a4a7285f78473dbdf3f15": {
          "model_module": "@jupyter-widgets/controls",
          "model_name": "HTMLModel",
          "model_module_version": "1.5.0",
          "state": {
            "_dom_classes": [],
            "_model_module": "@jupyter-widgets/controls",
            "_model_module_version": "1.5.0",
            "_model_name": "HTMLModel",
            "_view_count": null,
            "_view_module": "@jupyter-widgets/controls",
            "_view_module_version": "1.5.0",
            "_view_name": "HTMLView",
            "description": "",
            "description_tooltip": null,
            "layout": "IPY_MODEL_5913c901587544138137900210fa898e",
            "placeholder": "​",
            "style": "IPY_MODEL_e81be94e39c1463a9e929b95fe8bddaf",
            "value": "100%"
          }
        },
        "bfdb95d84b6646f19e51066e1f8cd9f8": {
          "model_module": "@jupyter-widgets/controls",
          "model_name": "FloatProgressModel",
          "model_module_version": "1.5.0",
          "state": {
            "_dom_classes": [],
            "_model_module": "@jupyter-widgets/controls",
            "_model_module_version": "1.5.0",
            "_model_name": "FloatProgressModel",
            "_view_count": null,
            "_view_module": "@jupyter-widgets/controls",
            "_view_module_version": "1.5.0",
            "_view_name": "ProgressView",
            "bar_style": "success",
            "description": "",
            "description_tooltip": null,
            "layout": "IPY_MODEL_b2cf514bb8c44ea6aacef60a27da383f",
            "max": 3,
            "min": 0,
            "orientation": "horizontal",
            "style": "IPY_MODEL_009004b2689b4a64960ac01c005cfc40",
            "value": 3
          }
        },
        "8cd087f974b74347be10690a9a0f94bc": {
          "model_module": "@jupyter-widgets/controls",
          "model_name": "HTMLModel",
          "model_module_version": "1.5.0",
          "state": {
            "_dom_classes": [],
            "_model_module": "@jupyter-widgets/controls",
            "_model_module_version": "1.5.0",
            "_model_name": "HTMLModel",
            "_view_count": null,
            "_view_module": "@jupyter-widgets/controls",
            "_view_module_version": "1.5.0",
            "_view_name": "HTMLView",
            "description": "",
            "description_tooltip": null,
            "layout": "IPY_MODEL_658e139955ff47c89ae83a4a74a758d1",
            "placeholder": "​",
            "style": "IPY_MODEL_0c1838f910aa428291c137c9b5b35ef0",
            "value": " 3/3 [00:03&lt;00:00,  1.22it/s]"
          }
        },
        "b113e1e98e43453ca7f2dc5afa513bd3": {
          "model_module": "@jupyter-widgets/base",
          "model_name": "LayoutModel",
          "model_module_version": "1.2.0",
          "state": {
            "_model_module": "@jupyter-widgets/base",
            "_model_module_version": "1.2.0",
            "_model_name": "LayoutModel",
            "_view_count": null,
            "_view_module": "@jupyter-widgets/base",
            "_view_module_version": "1.2.0",
            "_view_name": "LayoutView",
            "align_content": null,
            "align_items": null,
            "align_self": null,
            "border": null,
            "bottom": null,
            "display": null,
            "flex": null,
            "flex_flow": null,
            "grid_area": null,
            "grid_auto_columns": null,
            "grid_auto_flow": null,
            "grid_auto_rows": null,
            "grid_column": null,
            "grid_gap": null,
            "grid_row": null,
            "grid_template_areas": null,
            "grid_template_columns": null,
            "grid_template_rows": null,
            "height": null,
            "justify_content": null,
            "justify_items": null,
            "left": null,
            "margin": null,
            "max_height": null,
            "max_width": null,
            "min_height": null,
            "min_width": null,
            "object_fit": null,
            "object_position": null,
            "order": null,
            "overflow": null,
            "overflow_x": null,
            "overflow_y": null,
            "padding": null,
            "right": null,
            "top": null,
            "visibility": null,
            "width": null
          }
        },
        "5913c901587544138137900210fa898e": {
          "model_module": "@jupyter-widgets/base",
          "model_name": "LayoutModel",
          "model_module_version": "1.2.0",
          "state": {
            "_model_module": "@jupyter-widgets/base",
            "_model_module_version": "1.2.0",
            "_model_name": "LayoutModel",
            "_view_count": null,
            "_view_module": "@jupyter-widgets/base",
            "_view_module_version": "1.2.0",
            "_view_name": "LayoutView",
            "align_content": null,
            "align_items": null,
            "align_self": null,
            "border": null,
            "bottom": null,
            "display": null,
            "flex": null,
            "flex_flow": null,
            "grid_area": null,
            "grid_auto_columns": null,
            "grid_auto_flow": null,
            "grid_auto_rows": null,
            "grid_column": null,
            "grid_gap": null,
            "grid_row": null,
            "grid_template_areas": null,
            "grid_template_columns": null,
            "grid_template_rows": null,
            "height": null,
            "justify_content": null,
            "justify_items": null,
            "left": null,
            "margin": null,
            "max_height": null,
            "max_width": null,
            "min_height": null,
            "min_width": null,
            "object_fit": null,
            "object_position": null,
            "order": null,
            "overflow": null,
            "overflow_x": null,
            "overflow_y": null,
            "padding": null,
            "right": null,
            "top": null,
            "visibility": null,
            "width": null
          }
        },
        "e81be94e39c1463a9e929b95fe8bddaf": {
          "model_module": "@jupyter-widgets/controls",
          "model_name": "DescriptionStyleModel",
          "model_module_version": "1.5.0",
          "state": {
            "_model_module": "@jupyter-widgets/controls",
            "_model_module_version": "1.5.0",
            "_model_name": "DescriptionStyleModel",
            "_view_count": null,
            "_view_module": "@jupyter-widgets/base",
            "_view_module_version": "1.2.0",
            "_view_name": "StyleView",
            "description_width": ""
          }
        },
        "b2cf514bb8c44ea6aacef60a27da383f": {
          "model_module": "@jupyter-widgets/base",
          "model_name": "LayoutModel",
          "model_module_version": "1.2.0",
          "state": {
            "_model_module": "@jupyter-widgets/base",
            "_model_module_version": "1.2.0",
            "_model_name": "LayoutModel",
            "_view_count": null,
            "_view_module": "@jupyter-widgets/base",
            "_view_module_version": "1.2.0",
            "_view_name": "LayoutView",
            "align_content": null,
            "align_items": null,
            "align_self": null,
            "border": null,
            "bottom": null,
            "display": null,
            "flex": null,
            "flex_flow": null,
            "grid_area": null,
            "grid_auto_columns": null,
            "grid_auto_flow": null,
            "grid_auto_rows": null,
            "grid_column": null,
            "grid_gap": null,
            "grid_row": null,
            "grid_template_areas": null,
            "grid_template_columns": null,
            "grid_template_rows": null,
            "height": null,
            "justify_content": null,
            "justify_items": null,
            "left": null,
            "margin": null,
            "max_height": null,
            "max_width": null,
            "min_height": null,
            "min_width": null,
            "object_fit": null,
            "object_position": null,
            "order": null,
            "overflow": null,
            "overflow_x": null,
            "overflow_y": null,
            "padding": null,
            "right": null,
            "top": null,
            "visibility": null,
            "width": null
          }
        },
        "009004b2689b4a64960ac01c005cfc40": {
          "model_module": "@jupyter-widgets/controls",
          "model_name": "ProgressStyleModel",
          "model_module_version": "1.5.0",
          "state": {
            "_model_module": "@jupyter-widgets/controls",
            "_model_module_version": "1.5.0",
            "_model_name": "ProgressStyleModel",
            "_view_count": null,
            "_view_module": "@jupyter-widgets/base",
            "_view_module_version": "1.2.0",
            "_view_name": "StyleView",
            "bar_color": null,
            "description_width": ""
          }
        },
        "658e139955ff47c89ae83a4a74a758d1": {
          "model_module": "@jupyter-widgets/base",
          "model_name": "LayoutModel",
          "model_module_version": "1.2.0",
          "state": {
            "_model_module": "@jupyter-widgets/base",
            "_model_module_version": "1.2.0",
            "_model_name": "LayoutModel",
            "_view_count": null,
            "_view_module": "@jupyter-widgets/base",
            "_view_module_version": "1.2.0",
            "_view_name": "LayoutView",
            "align_content": null,
            "align_items": null,
            "align_self": null,
            "border": null,
            "bottom": null,
            "display": null,
            "flex": null,
            "flex_flow": null,
            "grid_area": null,
            "grid_auto_columns": null,
            "grid_auto_flow": null,
            "grid_auto_rows": null,
            "grid_column": null,
            "grid_gap": null,
            "grid_row": null,
            "grid_template_areas": null,
            "grid_template_columns": null,
            "grid_template_rows": null,
            "height": null,
            "justify_content": null,
            "justify_items": null,
            "left": null,
            "margin": null,
            "max_height": null,
            "max_width": null,
            "min_height": null,
            "min_width": null,
            "object_fit": null,
            "object_position": null,
            "order": null,
            "overflow": null,
            "overflow_x": null,
            "overflow_y": null,
            "padding": null,
            "right": null,
            "top": null,
            "visibility": null,
            "width": null
          }
        },
        "0c1838f910aa428291c137c9b5b35ef0": {
          "model_module": "@jupyter-widgets/controls",
          "model_name": "DescriptionStyleModel",
          "model_module_version": "1.5.0",
          "state": {
            "_model_module": "@jupyter-widgets/controls",
            "_model_module_version": "1.5.0",
            "_model_name": "DescriptionStyleModel",
            "_view_count": null,
            "_view_module": "@jupyter-widgets/base",
            "_view_module_version": "1.2.0",
            "_view_name": "StyleView",
            "description_width": ""
          }
        }
      }
    }
  },
  "cells": [
    {
      "cell_type": "markdown",
      "source": [
        "#  **Text Summarisation and Sentiment Analysis**"
      ],
      "metadata": {
        "id": "Iz7vFAWtlH5c"
      }
    },
    {
      "cell_type": "markdown",
      "source": [
        "# Setting Up:\n",
        "This step involves installing the packages and importing them proactively"
      ],
      "metadata": {
        "id": "NcXa8KVxP7hQ"
      }
    },
    {
      "cell_type": "code",
      "execution_count": null,
      "metadata": {
        "id": "xao7K62UnWKF"
      },
      "outputs": [],
      "source": [
        "!pip install -U spacy\n",
        "!python -m spacy download en_core_web_sm"
      ]
    },
    {
      "cell_type": "code",
      "source": [
        "!pip3 install datasets contractions rouge tensorflow transformers"
      ],
      "metadata": {
        "id": "nuGBamfD6U2l",
        "colab": {
          "base_uri": "https://localhost:8080/"
        },
        "outputId": "e12ccf79-1b91-423e-9b3a-b5759e1e4544"
      },
      "execution_count": null,
      "outputs": [
        {
          "output_type": "stream",
          "name": "stdout",
          "text": [
            "Looking in indexes: https://pypi.org/simple, https://us-python.pkg.dev/colab-wheels/public/simple/\n",
            "Requirement already satisfied: datasets in /usr/local/lib/python3.7/dist-packages (2.7.0)\n",
            "Requirement already satisfied: contractions in /usr/local/lib/python3.7/dist-packages (0.1.73)\n",
            "Requirement already satisfied: rouge in /usr/local/lib/python3.7/dist-packages (1.0.1)\n",
            "Requirement already satisfied: tensorflow in /usr/local/lib/python3.7/dist-packages (2.9.2)\n",
            "Requirement already satisfied: transformers in /usr/local/lib/python3.7/dist-packages (4.24.0)\n",
            "Requirement already satisfied: dill<0.3.7 in /usr/local/lib/python3.7/dist-packages (from datasets) (0.3.6)\n",
            "Requirement already satisfied: pyyaml>=5.1 in /usr/local/lib/python3.7/dist-packages (from datasets) (6.0)\n",
            "Requirement already satisfied: importlib-metadata in /usr/local/lib/python3.7/dist-packages (from datasets) (4.13.0)\n",
            "Requirement already satisfied: packaging in /usr/local/lib/python3.7/dist-packages (from datasets) (21.3)\n",
            "Requirement already satisfied: pyarrow>=6.0.0 in /usr/local/lib/python3.7/dist-packages (from datasets) (6.0.1)\n",
            "Requirement already satisfied: numpy>=1.17 in /usr/local/lib/python3.7/dist-packages (from datasets) (1.21.6)\n",
            "Requirement already satisfied: xxhash in /usr/local/lib/python3.7/dist-packages (from datasets) (3.1.0)\n",
            "Requirement already satisfied: fsspec[http]>=2021.11.1 in /usr/local/lib/python3.7/dist-packages (from datasets) (2022.10.0)\n",
            "Requirement already satisfied: multiprocess in /usr/local/lib/python3.7/dist-packages (from datasets) (0.70.14)\n",
            "Requirement already satisfied: pandas in /usr/local/lib/python3.7/dist-packages (from datasets) (1.3.5)\n",
            "Requirement already satisfied: requests>=2.19.0 in /usr/local/lib/python3.7/dist-packages (from datasets) (2.23.0)\n",
            "Requirement already satisfied: responses<0.19 in /usr/local/lib/python3.7/dist-packages (from datasets) (0.18.0)\n",
            "Requirement already satisfied: tqdm>=4.62.1 in /usr/local/lib/python3.7/dist-packages (from datasets) (4.64.1)\n",
            "Requirement already satisfied: huggingface-hub<1.0.0,>=0.2.0 in /usr/local/lib/python3.7/dist-packages (from datasets) (0.11.0)\n",
            "Requirement already satisfied: aiohttp in /usr/local/lib/python3.7/dist-packages (from datasets) (3.8.3)\n",
            "Requirement already satisfied: asynctest==0.13.0 in /usr/local/lib/python3.7/dist-packages (from aiohttp->datasets) (0.13.0)\n",
            "Requirement already satisfied: typing-extensions>=3.7.4 in /usr/local/lib/python3.7/dist-packages (from aiohttp->datasets) (4.1.1)\n",
            "Requirement already satisfied: yarl<2.0,>=1.0 in /usr/local/lib/python3.7/dist-packages (from aiohttp->datasets) (1.8.1)\n",
            "Requirement already satisfied: async-timeout<5.0,>=4.0.0a3 in /usr/local/lib/python3.7/dist-packages (from aiohttp->datasets) (4.0.2)\n",
            "Requirement already satisfied: aiosignal>=1.1.2 in /usr/local/lib/python3.7/dist-packages (from aiohttp->datasets) (1.3.1)\n",
            "Requirement already satisfied: charset-normalizer<3.0,>=2.0 in /usr/local/lib/python3.7/dist-packages (from aiohttp->datasets) (2.1.1)\n",
            "Requirement already satisfied: multidict<7.0,>=4.5 in /usr/local/lib/python3.7/dist-packages (from aiohttp->datasets) (6.0.2)\n",
            "Requirement already satisfied: attrs>=17.3.0 in /usr/local/lib/python3.7/dist-packages (from aiohttp->datasets) (22.1.0)\n",
            "Requirement already satisfied: frozenlist>=1.1.1 in /usr/local/lib/python3.7/dist-packages (from aiohttp->datasets) (1.3.3)\n",
            "Requirement already satisfied: filelock in /usr/local/lib/python3.7/dist-packages (from huggingface-hub<1.0.0,>=0.2.0->datasets) (3.8.0)\n",
            "Requirement already satisfied: pyparsing!=3.0.5,>=2.0.2 in /usr/local/lib/python3.7/dist-packages (from packaging->datasets) (3.0.9)\n",
            "Requirement already satisfied: urllib3!=1.25.0,!=1.25.1,<1.26,>=1.21.1 in /usr/local/lib/python3.7/dist-packages (from requests>=2.19.0->datasets) (1.25.11)\n",
            "Requirement already satisfied: certifi>=2017.4.17 in /usr/local/lib/python3.7/dist-packages (from requests>=2.19.0->datasets) (2022.9.24)\n",
            "Requirement already satisfied: chardet<4,>=3.0.2 in /usr/local/lib/python3.7/dist-packages (from requests>=2.19.0->datasets) (3.0.4)\n",
            "Requirement already satisfied: idna<3,>=2.5 in /usr/local/lib/python3.7/dist-packages (from requests>=2.19.0->datasets) (2.10)\n",
            "Requirement already satisfied: textsearch>=0.0.21 in /usr/local/lib/python3.7/dist-packages (from contractions) (0.0.24)\n",
            "Requirement already satisfied: pyahocorasick in /usr/local/lib/python3.7/dist-packages (from textsearch>=0.0.21->contractions) (1.4.4)\n",
            "Requirement already satisfied: anyascii in /usr/local/lib/python3.7/dist-packages (from textsearch>=0.0.21->contractions) (0.3.1)\n",
            "Requirement already satisfied: six in /usr/local/lib/python3.7/dist-packages (from rouge) (1.15.0)\n",
            "Requirement already satisfied: google-pasta>=0.1.1 in /usr/local/lib/python3.7/dist-packages (from tensorflow) (0.2.0)\n",
            "Requirement already satisfied: keras-preprocessing>=1.1.1 in /usr/local/lib/python3.7/dist-packages (from tensorflow) (1.1.2)\n",
            "Requirement already satisfied: setuptools in /usr/local/lib/python3.7/dist-packages (from tensorflow) (57.4.0)\n",
            "Requirement already satisfied: tensorflow-estimator<2.10.0,>=2.9.0rc0 in /usr/local/lib/python3.7/dist-packages (from tensorflow) (2.9.0)\n",
            "Requirement already satisfied: protobuf<3.20,>=3.9.2 in /usr/local/lib/python3.7/dist-packages (from tensorflow) (3.19.6)\n",
            "Requirement already satisfied: grpcio<2.0,>=1.24.3 in /usr/local/lib/python3.7/dist-packages (from tensorflow) (1.50.0)\n",
            "Requirement already satisfied: flatbuffers<2,>=1.12 in /usr/local/lib/python3.7/dist-packages (from tensorflow) (1.12)\n",
            "Requirement already satisfied: absl-py>=1.0.0 in /usr/local/lib/python3.7/dist-packages (from tensorflow) (1.3.0)\n",
            "Requirement already satisfied: termcolor>=1.1.0 in /usr/local/lib/python3.7/dist-packages (from tensorflow) (2.1.0)\n",
            "Requirement already satisfied: libclang>=13.0.0 in /usr/local/lib/python3.7/dist-packages (from tensorflow) (14.0.6)\n",
            "Requirement already satisfied: keras<2.10.0,>=2.9.0rc0 in /usr/local/lib/python3.7/dist-packages (from tensorflow) (2.9.0)\n",
            "Requirement already satisfied: opt-einsum>=2.3.2 in /usr/local/lib/python3.7/dist-packages (from tensorflow) (3.3.0)\n",
            "Requirement already satisfied: h5py>=2.9.0 in /usr/local/lib/python3.7/dist-packages (from tensorflow) (3.1.0)\n",
            "Requirement already satisfied: tensorflow-io-gcs-filesystem>=0.23.1 in /usr/local/lib/python3.7/dist-packages (from tensorflow) (0.27.0)\n",
            "Requirement already satisfied: tensorboard<2.10,>=2.9 in /usr/local/lib/python3.7/dist-packages (from tensorflow) (2.9.1)\n",
            "Requirement already satisfied: wrapt>=1.11.0 in /usr/local/lib/python3.7/dist-packages (from tensorflow) (1.14.1)\n",
            "Requirement already satisfied: gast<=0.4.0,>=0.2.1 in /usr/local/lib/python3.7/dist-packages (from tensorflow) (0.4.0)\n",
            "Requirement already satisfied: astunparse>=1.6.0 in /usr/local/lib/python3.7/dist-packages (from tensorflow) (1.6.3)\n",
            "Requirement already satisfied: wheel<1.0,>=0.23.0 in /usr/local/lib/python3.7/dist-packages (from astunparse>=1.6.0->tensorflow) (0.38.3)\n",
            "Requirement already satisfied: cached-property in /usr/local/lib/python3.7/dist-packages (from h5py>=2.9.0->tensorflow) (1.5.2)\n",
            "Requirement already satisfied: markdown>=2.6.8 in /usr/local/lib/python3.7/dist-packages (from tensorboard<2.10,>=2.9->tensorflow) (3.4.1)\n",
            "Requirement already satisfied: werkzeug>=1.0.1 in /usr/local/lib/python3.7/dist-packages (from tensorboard<2.10,>=2.9->tensorflow) (1.0.1)\n",
            "Requirement already satisfied: tensorboard-plugin-wit>=1.6.0 in /usr/local/lib/python3.7/dist-packages (from tensorboard<2.10,>=2.9->tensorflow) (1.8.1)\n",
            "Requirement already satisfied: google-auth<3,>=1.6.3 in /usr/local/lib/python3.7/dist-packages (from tensorboard<2.10,>=2.9->tensorflow) (2.14.1)\n",
            "Requirement already satisfied: tensorboard-data-server<0.7.0,>=0.6.0 in /usr/local/lib/python3.7/dist-packages (from tensorboard<2.10,>=2.9->tensorflow) (0.6.1)\n",
            "Requirement already satisfied: google-auth-oauthlib<0.5,>=0.4.1 in /usr/local/lib/python3.7/dist-packages (from tensorboard<2.10,>=2.9->tensorflow) (0.4.6)\n",
            "Requirement already satisfied: rsa<5,>=3.1.4 in /usr/local/lib/python3.7/dist-packages (from google-auth<3,>=1.6.3->tensorboard<2.10,>=2.9->tensorflow) (4.9)\n",
            "Requirement already satisfied: pyasn1-modules>=0.2.1 in /usr/local/lib/python3.7/dist-packages (from google-auth<3,>=1.6.3->tensorboard<2.10,>=2.9->tensorflow) (0.2.8)\n",
            "Requirement already satisfied: cachetools<6.0,>=2.0.0 in /usr/local/lib/python3.7/dist-packages (from google-auth<3,>=1.6.3->tensorboard<2.10,>=2.9->tensorflow) (5.2.0)\n",
            "Requirement already satisfied: requests-oauthlib>=0.7.0 in /usr/local/lib/python3.7/dist-packages (from google-auth-oauthlib<0.5,>=0.4.1->tensorboard<2.10,>=2.9->tensorflow) (1.3.1)\n",
            "Requirement already satisfied: zipp>=0.5 in /usr/local/lib/python3.7/dist-packages (from importlib-metadata->datasets) (3.10.0)\n",
            "Requirement already satisfied: pyasn1<0.5.0,>=0.4.6 in /usr/local/lib/python3.7/dist-packages (from pyasn1-modules>=0.2.1->google-auth<3,>=1.6.3->tensorboard<2.10,>=2.9->tensorflow) (0.4.8)\n",
            "Requirement already satisfied: oauthlib>=3.0.0 in /usr/local/lib/python3.7/dist-packages (from requests-oauthlib>=0.7.0->google-auth-oauthlib<0.5,>=0.4.1->tensorboard<2.10,>=2.9->tensorflow) (3.2.2)\n",
            "Requirement already satisfied: regex!=2019.12.17 in /usr/local/lib/python3.7/dist-packages (from transformers) (2022.6.2)\n",
            "Requirement already satisfied: tokenizers!=0.11.3,<0.14,>=0.11.1 in /usr/local/lib/python3.7/dist-packages (from transformers) (0.13.2)\n",
            "Requirement already satisfied: python-dateutil>=2.7.3 in /usr/local/lib/python3.7/dist-packages (from pandas->datasets) (2.8.2)\n",
            "Requirement already satisfied: pytz>=2017.3 in /usr/local/lib/python3.7/dist-packages (from pandas->datasets) (2022.6)\n"
          ]
        }
      ]
    },
    {
      "cell_type": "code",
      "source": [
        "# for data\n",
        "import datasets  #(1.13.3)\n",
        "import pandas as pd  #(0.25.1)\n",
        "import numpy as np #(1.16.4)\n",
        "\n",
        "# for plotting\n",
        "import matplotlib.pyplot as plt  #(3.1.2)\n",
        "import seaborn as sns  #(0.9.0)\n",
        "\n",
        "# for preprocessing\n",
        "import re\n",
        "import nltk  #(3.4.5)\n",
        "import contractions  #(0.0.18)\n",
        "import spacy\n",
        "from spacy.lang.en.stop_words import STOP_WORDS\n",
        "from string import punctuation\n",
        "\n",
        "# for evaluation\n",
        "import rouge  #(1.0.0)\n",
        "import difflib\n",
        "\n",
        "# for extracted frequency based approach\n",
        "from heapq import nlargest\n",
        "\n",
        "# for textrank\n",
        "import gensim  \n",
        "\n",
        "# for seq2seq\n",
        "from tensorflow.keras import callbacks, models, layers, preprocessing as kprocessing #(2.6.0)\n",
        "\n",
        "# for bart\n",
        "import transformers  #(3.0.1)\n",
        "\n",
        "# for code cleanliness\n",
        "from IPython.core.display import display, HTML\n"
      ],
      "metadata": {
        "id": "iihvl21ds2fz"
      },
      "execution_count": null,
      "outputs": []
    },
    {
      "cell_type": "code",
      "source": [
        "nltk.download('punkt')\n",
        "nltk.download('wordnet')\n",
        "nltk.download('omw-1.4')"
      ],
      "metadata": {
        "id": "CANia4H-6UPz",
        "colab": {
          "base_uri": "https://localhost:8080/"
        },
        "outputId": "b27b3ec0-4344-43a1-f094-9447756177e8"
      },
      "execution_count": null,
      "outputs": [
        {
          "output_type": "stream",
          "name": "stderr",
          "text": [
            "[nltk_data] Downloading package punkt to /root/nltk_data...\n",
            "[nltk_data]   Package punkt is already up-to-date!\n",
            "[nltk_data] Downloading package wordnet to /root/nltk_data...\n",
            "[nltk_data]   Package wordnet is already up-to-date!\n",
            "[nltk_data] Downloading package omw-1.4 to /root/nltk_data...\n",
            "[nltk_data]   Package omw-1.4 is already up-to-date!\n"
          ]
        },
        {
          "output_type": "execute_result",
          "data": {
            "text/plain": [
              "True"
            ]
          },
          "metadata": {},
          "execution_count": 41
        }
      ]
    },
    {
      "cell_type": "markdown",
      "source": [
        "# Loading Data\n",
        "\n",
        "Here we are loading a sample dataset of news articles and their highlights which will be considered the aim of our text summarisation alogrithms.\n",
        "\n",
        "This Dataset is availabe in the datasets package imported above."
      ],
      "metadata": {
        "id": "89sCzxmYQGqH"
      }
    },
    {
      "cell_type": "code",
      "source": [
        "dataset = datasets.load_dataset(\"cnn_dailymail\", '3.0.0')"
      ],
      "metadata": {
        "id": "nflkDcbV65Mh",
        "colab": {
          "base_uri": "https://localhost:8080/",
          "height": 86,
          "referenced_widgets": [
            "63173c65add4436a83eb931f266c40cf",
            "92bd570bd66a4a7285f78473dbdf3f15",
            "bfdb95d84b6646f19e51066e1f8cd9f8",
            "8cd087f974b74347be10690a9a0f94bc",
            "b113e1e98e43453ca7f2dc5afa513bd3",
            "5913c901587544138137900210fa898e",
            "e81be94e39c1463a9e929b95fe8bddaf",
            "b2cf514bb8c44ea6aacef60a27da383f",
            "009004b2689b4a64960ac01c005cfc40",
            "658e139955ff47c89ae83a4a74a758d1",
            "0c1838f910aa428291c137c9b5b35ef0"
          ]
        },
        "outputId": "9fceaabb-2ec0-4665-c8c9-ef76a80305dc"
      },
      "execution_count": null,
      "outputs": [
        {
          "output_type": "stream",
          "name": "stderr",
          "text": [
            "WARNING:datasets.builder:Found cached dataset cnn_dailymail (/root/.cache/huggingface/datasets/cnn_dailymail/3.0.0/3.0.0/1b3c71476f6d152c31c1730e83ccb08bcf23e348233f4fcc11e182248e6bf7de)\n"
          ]
        },
        {
          "output_type": "display_data",
          "data": {
            "text/plain": [
              "  0%|          | 0/3 [00:00<?, ?it/s]"
            ],
            "application/vnd.jupyter.widget-view+json": {
              "version_major": 2,
              "version_minor": 0,
              "model_id": "63173c65add4436a83eb931f266c40cf"
            }
          },
          "metadata": {}
        }
      ]
    },
    {
      "cell_type": "code",
      "source": [
        "df = pd.DataFrame(list(dataset['train'])).rename(columns={\"article\":\"text\", \n",
        "      \"highlights\":\"y\"})[[\"text\",\"y\"]].head(10000)\n",
        "\n",
        "SAMPLES = 20\n",
        "df_train = df.iloc[SAMPLES + 1: 4 * SAMPLES]\n",
        "df_test = df.iloc[:SAMPLES + 1]"
      ],
      "metadata": {
        "id": "Xl4ORTj8NUL_"
      },
      "execution_count": null,
      "outputs": []
    },
    {
      "cell_type": "markdown",
      "source": [
        "## Setting Evaluation Functions\n",
        "\n",
        "To compare the models that we will be using in this proeject, it is important to define parameters of comparison. Here we are going to use the 'rougue' library to evaluate our summaries\n"
      ],
      "metadata": {
        "id": "tSPYMa_4RUOW"
      }
    },
    {
      "cell_type": "code",
      "source": [
        "def evaluate_summary(expected: list, predicted: list):    \n",
        "  rouge_score = rouge.Rouge()    \n",
        "  scores = rouge_score.get_scores(expected, predicted, avg=True)       \n",
        "  score_1 = round(scores['rouge-1']['f'], 2)    \n",
        "  score_2 = round(scores['rouge-2']['f'], 2)    \n",
        "  score_L = round(scores['rouge-l']['f'], 2)    \n",
        "  print(\"rouge1:\", score_1, \"| rouge2:\", score_2, \"| rougeL:\",\n",
        "        score_2, \"--> avg rouge:\", round(np.mean(\n",
        "        [score_1,score_2,score_L]), 2))"
      ],
      "metadata": {
        "id": "rqet1sJhRtZQ"
      },
      "execution_count": null,
      "outputs": []
    },
    {
      "cell_type": "markdown",
      "source": [
        "# Setting Visualisation Functions\n",
        "\n",
        "It is useful for our purposes to be able to see what parts of the full text and the summary match one another. This will allow us to see what parts were extracted and considered important\n",
        "\n",
        "This part of the code has been adapted from:\n",
        "https://gist.github.com/mdipietro09/8c9d50476488b12b34694e1292a67f80#file-display_string_matching-py"
      ],
      "metadata": {
        "id": "fxJEJCTsUcWB"
      }
    },
    {
      "cell_type": "code",
      "source": [
        "def split_sentences(a: str, b: str):\n",
        "  match = difflib.SequenceMatcher(isjunk=None, a=a, b=b, autojunk=True)\n",
        "  lst_match = [block for block in match.get_matching_blocks() if block.size > 20]\n",
        "  if len(lst_match) == 0:\n",
        "      lst_a, lst_b = nltk.sent_tokenize(a), nltk.sent_tokenize(b)\n",
        "  else:\n",
        "      first_m, last_m = lst_match[0], lst_match[-1]\n",
        "      string = a[0 : first_m.a]\n",
        "      lst_a = [t for t in nltk.sent_tokenize(string)]\n",
        "      for n in range(len(lst_match)):\n",
        "          m = lst_match[n]\n",
        "          string = a[m.a : m.a+m.size]\n",
        "          lst_a.append(string)\n",
        "          if n+1 < len(lst_match):\n",
        "              next_m = lst_match[n + 1]\n",
        "              string = a[m.a+m.size : next_m.a]\n",
        "              lst_a = lst_a + [t for t in nltk.sent_tokenize(string)]\n",
        "          else: break\n",
        "      string = a[last_m.a+last_m.size :]\n",
        "      lst_a += [t for t in nltk.sent_tokenize(string)]\n",
        "      string = b[0 : first_m.b]\n",
        "      lst_b = [t for t in nltk.sent_tokenize(string)]\n",
        "      for n in range(len(lst_match)):\n",
        "          m = lst_match[n]\n",
        "          string = b[m.b : m.b+m.size]\n",
        "          lst_b.append(string)\n",
        "          if n+1 < len(lst_match):\n",
        "              next_m = lst_match[n+1]\n",
        "              string = b[m.b+m.size : next_m.b]\n",
        "              lst_b = lst_b + [t for t in nltk.sent_tokenize(string)]\n",
        "          else:\n",
        "              break\n",
        "      string = b[last_m.b+last_m.size :]\n",
        "      lst_b = lst_b + [t for t in nltk.sent_tokenize(string)]\n",
        "  return lst_a, lst_b\n",
        "\n",
        "def display_string_matching(a: str, b: str, both=True, sentences=True, titles=[]) -> str:\n",
        "  if sentences:\n",
        "      lst_a, lst_b = split_sentences(a, b)\n",
        "  else:\n",
        "      lst_a, lst_b = a.split(), b.split()       \n",
        "  first_text = []\n",
        "  for i in lst_a:\n",
        "      if re.sub(r'[^\\w\\s]', '', i.lower()) in [re.sub(r'[^\\w\\s]', '', z.lower()) for z in lst_b]:\n",
        "          first_text.append('<span style=\"background-color:rgba(255,215,0,0.3);\">' + i + '</span>')\n",
        "      else:\n",
        "          first_text.append(i)\n",
        "  first_text = ' '.join(first_text)\n",
        "  second_text = []\n",
        "  if both is True:\n",
        "      for i in lst_b:\n",
        "          if re.sub(r'[^\\w\\s]', '', i.lower()) in [re.sub(r'[^\\w\\s]', '', z.lower()) for z in lst_a]:\n",
        "              second_text.append('<span style=\"background-color:rgba(255,215,0,0.3);\">' + i + '</span>')\n",
        "          else:\n",
        "              second_text.append(i)\n",
        "  else:\n",
        "      second_text.append(b) \n",
        "  second_text = ' '.join(second_text)\n",
        "\n",
        "  if len(titles) > 0:\n",
        "      first_text = \"<strong>\"+titles[0]+\"</strong><br>\"+first_text\n",
        "  if len(titles) > 1:\n",
        "      second_text = \"<strong>\"+titles[1]+\"</strong><br>\"+second_text\n",
        "  else:\n",
        "      second_text = \"---\"*65+\"<br><br>\"+second_text\n",
        "  final_text = first_text +'<br><br>'+ second_text\n",
        "  return final_text"
      ],
      "metadata": {
        "id": "3TpP3Bj2U8gP"
      },
      "execution_count": null,
      "outputs": []
    },
    {
      "cell_type": "code",
      "source": [
        "def visualise_differance(full_text: str, summary: str):\n",
        "  html = display_string_matching(full_text, summary)\n",
        "  display(HTML(html))\n"
      ],
      "metadata": {
        "id": "Et5K55hCWivZ"
      },
      "execution_count": null,
      "outputs": []
    },
    {
      "cell_type": "markdown",
      "source": [
        "# Constructing an Extractive Appoach based on Frequency Method\n",
        "\n",
        "This is the first straightforward approach where we measure the frequency of sentences and then score sentences and pick the n largest ones to construct the summary\n",
        "\n",
        "This approach is created manually using no external packages."
      ],
      "metadata": {
        "id": "sEs9l6WZXR4I"
      }
    },
    {
      "cell_type": "code",
      "source": [
        "def preprocessed(document):\n",
        "  from string import punctuation\n",
        "  punctuation = punctuation + '\\n'\n",
        "  stopwords = list(STOP_WORDS)\n",
        "  return [word for word in document if word.text.lower() not in stopwords and word.text.lower() not in punctuation]\n",
        "\n",
        "def get_normalised_word_frequencies(document):\n",
        "  word_frequencies = {}\n",
        "  for word in preprocessed(document):\n",
        "      word_frequencies[word.text] = 1 if word.text not in word_frequencies else word_frequencies[word.text] + 1\n",
        "  max_frequency = max(word_frequencies.values())\n",
        "  for word in word_frequencies:\n",
        "    word_frequencies[word] /= max_frequency\n",
        "  return word_frequencies\n",
        "\n",
        "def extracted_summary(text: str, percentage_reduced = 0.1) -> str:\n",
        "  nlp = spacy.load('en_core_web_sm')\n",
        "  doc = nlp(text)\n",
        "  tokens = [token.text for token in doc]\n",
        "  word_frequencies = get_normalised_word_frequencies(doc)\n",
        "  sentence_scores = {sent: sum([word_frequencies[word.text.lower()] \n",
        "                                for word in sent if word.text.lower() in word_frequencies]) \n",
        "                                for sent in list(doc.sents)}\n",
        "  select_length = int(len(list(doc.sents)) * percentage_reduced)\n",
        "  summary = nlargest(select_length, sentence_scores, key = sentence_scores.get) \n",
        "  return ' '.join([word.text for word in summary])\n"
      ],
      "metadata": {
        "id": "UAVOdM0RsBXF"
      },
      "execution_count": null,
      "outputs": []
    },
    {
      "cell_type": "code",
      "source": [
        "def extracted_approach(corpus, percentage_reduced=0.2):    \n",
        "    if type(corpus) is str:        \n",
        "       corpus = [corpus]    \n",
        "    return [extracted_summary(txt, percentage_reduced=percentage_reduced) for txt in corpus]    "
      ],
      "metadata": {
        "id": "ZRTKgPIwMEZR"
      },
      "execution_count": null,
      "outputs": []
    },
    {
      "cell_type": "code",
      "source": [
        "predicted_summaries = extracted_approach(df_test[\"text\"], percentage_reduced=0.2)"
      ],
      "metadata": {
        "id": "6tyEJ-x0aqCh"
      },
      "execution_count": null,
      "outputs": []
    },
    {
      "cell_type": "code",
      "source": [
        "sample_predicted_summary, sample_expected_summary = predicted_summaries[0], df_test[\"y\"][0]\n",
        "evaluate_summary(sample_predicted_summary, sample_expected_summary)\n",
        "print(f\"For {SAMPLES} summaaries:\")\n",
        "evaluate_summary(predicted_summaries, list(df_test[\"y\"]))"
      ],
      "metadata": {
        "colab": {
          "base_uri": "https://localhost:8080/"
        },
        "id": "8serPAmNMxSj",
        "outputId": "393d69e0-392e-4cd6-d574-ea232c5c42ba"
      },
      "execution_count": null,
      "outputs": [
        {
          "output_type": "stream",
          "name": "stdout",
          "text": [
            "rouge1: 0.25 | rouge2: 0.17 | rougeL: 0.17 --> avg rouge: 0.22\n",
            "For 20 summaaries:\n",
            "rouge1: 0.22 | rouge2: 0.07 | rougeL: 0.07 --> avg rouge: 0.16\n"
          ]
        }
      ]
    },
    {
      "cell_type": "code",
      "source": [
        "visualise_differance(sample_predicted_summary, df_test[\"text\"][0])"
      ],
      "metadata": {
        "colab": {
          "base_uri": "https://localhost:8080/",
          "height": 418
        },
        "id": "-fWGQ4hvb76k",
        "outputId": "bb2d8843-3fd5-422b-e297-d3c6ccc4a0b3"
      },
      "execution_count": null,
      "outputs": [
        {
          "output_type": "display_data",
          "data": {
            "text/plain": [
              "<IPython.core.display.HTML object>"
            ],
            "text/html": [
              "<span style=\"background-color:rgba(255,215,0,0.3);\">At 18, Radcliffe will be able to gamble in a casino, buy a drink in a pub or see the horror film \"Hostel: Part II,\" currently six places below his number one movie on the UK box office chart.</span> <span style=\"background-color:rgba(255,215,0,0.3);\"> Harry Potter star Daniel Radcliffe gains access to a reported £20 million ($41.1 million) fortune as he turns 18 on Monday, but he insists the money won't cast a spell on him. </span> <span style=\"background-color:rgba(255,215,0,0.3);\">\"I don't plan to be one of those people who, as soon as they turn 18, suddenly buy themselves a massive sports car collection or something similar,\" he told an Australian interviewer earlier this month. </span> <span style=\"background-color:rgba(255,215,0,0.3);\">Daniel Radcliffe as Harry Potter in \"Harry Potter and the Order of the Phoenix\" To the disappointment of gossip columnists around the world, the young actor says he has no plans to fritter his cash away on fast cars, drink and celebrity parties.</span> <span style=\"background-color:rgba(255,215,0,0.3);\">Meanwhile, he is braced for even closer media scrutiny now that he's legally an adult: \"I just think I'm going to be more sort of fair game,\" he told Reuters.</span><br><br>---------------------------------------------------------------------------------------------------------------------------------------------------------------------------------------------------<br><br>LONDON, England (Reuters) -- <span style=\"background-color:rgba(255,215,0,0.3);\"> Harry Potter star Daniel Radcliffe gains access to a reported £20 million ($41.1 million) fortune as he turns 18 on Monday, but he insists the money won't cast a spell on him. </span> <span style=\"background-color:rgba(255,215,0,0.3);\">Daniel Radcliffe as Harry Potter in \"Harry Potter and the Order of the Phoenix\" To the disappointment of gossip columnists around the world, the young actor says he has no plans to fritter his cash away on fast cars, drink and celebrity parties.</span> <span style=\"background-color:rgba(255,215,0,0.3);\">\"I don't plan to be one of those people who, as soon as they turn 18, suddenly buy themselves a massive sports car collection or something similar,\" he told an Australian interviewer earlier this month. </span> \"I don't think I'll be particularly extravagant. \"The things I like buying are things that cost about 10 pounds -- books and CDs and DVDs.\" <span style=\"background-color:rgba(255,215,0,0.3);\">At 18, Radcliffe will be able to gamble in a casino, buy a drink in a pub or see the horror film \"Hostel: Part II,\" currently six places below his number one movie on the UK box office chart.</span> Details of how he'll mark his landmark birthday are under wraps. His agent and publicist had no comment on his plans. \"I'll definitely have some sort of party,\" he said in an interview. \"Hopefully none of you will be reading about it.\" Radcliffe's earnings from the first five Potter films have been held in a trust fund which he has not been able to touch. Despite his growing fame and riches, the actor says he is keeping his feet firmly on the ground. \"People are always looking to say 'kid star goes off the rails,'\" he told reporters last month. \"But I try very hard not to go that way because it would be too easy for them.\" His latest outing as the boy wizard in \"Harry Potter and the Order of the Phoenix\" is breaking records on both sides of the Atlantic and he will reprise the role in the last two films. Watch I-Reporter give her review of Potter's latest » . There is life beyond Potter, however. The Londoner has filmed a TV movie called \"My Boy Jack,\" about author Rudyard Kipling and his son, due for release later this year. He will also appear in \"December Boys,\" an Australian film about four boys who escape an orphanage. Earlier this year, he made his stage debut playing a tortured teenager in Peter Shaffer's \"Equus.\" <span style=\"background-color:rgba(255,215,0,0.3);\">Meanwhile, he is braced for even closer media scrutiny now that he's legally an adult: \"I just think I'm going to be more sort of fair game,\" he told Reuters.</span> E-mail to a friend . Copyright 2007 Reuters. All rights reserved.This material may not be published, broadcast, rewritten, or redistributed."
            ]
          },
          "metadata": {}
        }
      ]
    },
    {
      "cell_type": "markdown",
      "source": [
        "# Another Extractive Approach:  The TextRank Algorithm \n",
        "\n",
        "Based on the the page rank algorithm (by google) from the original internet days, this approach is also extractive and similar to the frequency mehtod. For this we are using a pretrained model form genism"
      ],
      "metadata": {
        "id": "5qqMyHyD1O_o"
      }
    },
    {
      "cell_type": "code",
      "source": [
        "def textrank(corpus, ratio=0.2):    \n",
        "    if type(corpus) is str:        \n",
        "       corpus = [corpus]    \n",
        "    return [gensim.summarization.summarize(txt, ratio=ratio) for txt in corpus]    "
      ],
      "metadata": {
        "id": "3AoHjIczzp8r"
      },
      "execution_count": null,
      "outputs": []
    },
    {
      "cell_type": "code",
      "source": [
        "predicted_summaries = textrank(corpus=df_test[\"text\"], ratio=0.2)"
      ],
      "metadata": {
        "id": "0j5DPKO615Vl"
      },
      "execution_count": null,
      "outputs": []
    },
    {
      "cell_type": "code",
      "source": [
        "sample_predicted_summary, sample_expected_summary = predicted_summaries[0], df_test[\"y\"][0]\n",
        "evaluate_summary(sample_predicted_summary, sample_expected_summary)\n",
        "print(f\"For {SAMPLES} summaaries:\")\n",
        "# len(predicted_summaries), len(list(df_test[\"y\"]))\n",
        "evaluate_summary(predicted_summaries, list(df_test[\"y\"]))"
      ],
      "metadata": {
        "colab": {
          "base_uri": "https://localhost:8080/"
        },
        "id": "2fqKBxZA1-DP",
        "outputId": "9a3093b4-31ce-499d-bf97-2439752718a3"
      },
      "execution_count": null,
      "outputs": [
        {
          "output_type": "stream",
          "name": "stdout",
          "text": [
            "rouge1: 0.27 | rouge2: 0.18 | rougeL: 0.18 --> avg rouge: 0.24\n",
            "For 20 summaaries:\n",
            "rouge1: 0.25 | rouge2: 0.09 | rougeL: 0.09 --> avg rouge: 0.19\n"
          ]
        }
      ]
    },
    {
      "cell_type": "code",
      "source": [
        "visualise_differance(sample_predicted_summary, df_test[\"text\"][0])"
      ],
      "metadata": {
        "colab": {
          "base_uri": "https://localhost:8080/",
          "height": 1000
        },
        "id": "MXt9QXZj2WSB",
        "outputId": "52042598-ef01-4a85-d6dc-4f0d50fd4564"
      },
      "execution_count": null,
      "outputs": [
        {
          "output_type": "display_data",
          "data": {
            "text/plain": [
              "<IPython.core.display.HTML object>"
            ],
            "text/html": [
              "<span style=\"background-color:rgba(255,215,0,0.3);\">LONDON, England (Reuters) -- Harry Potter star Daniel Radcliffe gains access to a reported £20 million ($41.1 million) fortune as he turns 18 on Monday, but he insists the money won't cast a spell on him.</span> <span style=\"background-color:rgba(255,215,0,0.3);\">Daniel Radcliffe as Harry Potter in \"Harry Potter and the Order of the Phoenix\" To the disappointment of gossip columnists around the world, the young actor says he has no plans to fritter his cash away on fast cars, drink and celebrity parties.</span> <span style=\"background-color:rgba(255,215,0,0.3);\">\"I don't plan to be one of those people who, as soon as they turn 18, suddenly buy themselves a massive sports car collection or something similar,\" he told an Australian interviewer earlier this month.</span> <span style=\"background-color:rgba(255,215,0,0.3);\">\"But I try very hard not to go that way because it would be too easy for them.\" His latest outing as the boy wizard in \"Harry Potter and the Order of the Phoenix\" is breaking records on both sides of the Atlantic and he will reprise the role in the last two films.</span><br><br>---------------------------------------------------------------------------------------------------------------------------------------------------------------------------------------------------<br><br><span style=\"background-color:rgba(255,215,0,0.3);\">LONDON, England (Reuters) -- Harry Potter star Daniel Radcliffe gains access to a reported £20 million ($41.1 million) fortune as he turns 18 on Monday, but he insists the money won't cast a spell on him.</span> <span style=\"background-color:rgba(255,215,0,0.3);\">Daniel Radcliffe as Harry Potter in \"Harry Potter and the Order of the Phoenix\" To the disappointment of gossip columnists around the world, the young actor says he has no plans to fritter his cash away on fast cars, drink and celebrity parties.</span> <span style=\"background-color:rgba(255,215,0,0.3);\">\"I don't plan to be one of those people who, as soon as they turn 18, suddenly buy themselves a massive sports car collection or something similar,\" he told an Australian interviewer earlier this month.</span>  \"I don't think I'll be particularly extravagant. \"The things I like buying are things that cost about 10 pounds -- books and CDs and DVDs.\" At 18, Radcliffe will be able to gamble in a casino, buy a drink in a pub or see the horror film \"Hostel: Part II,\" currently six places below his number one movie on the UK box office chart. Details of how he'll mark his landmark birthday are under wraps. His agent and publicist had no comment on his plans. \"I'll definitely have some sort of party,\" he said in an interview. \"Hopefully none of you will be reading about it.\" Radcliffe's earnings from the first five Potter films have been held in a trust fund which he has not been able to touch. Despite his growing fame and riches, the actor says he is keeping his feet firmly on the ground. \"People are always looking to say 'kid star goes off the rails,'\" he told reporters last month. <span style=\"background-color:rgba(255,215,0,0.3);\">\"But I try very hard not to go that way because it would be too easy for them.\" His latest outing as the boy wizard in \"Harry Potter and the Order of the Phoenix\" is breaking records on both sides of the Atlantic and he will reprise the role in the last two films.</span>   Watch I-Reporter give her review of Potter's latest » . There is life beyond Potter, however. The Londoner has filmed a TV movie called \"My Boy Jack,\" about author Rudyard Kipling and his son, due for release later this year. He will also appear in \"December Boys,\" an Australian film about four boys who escape an orphanage. Earlier this year, he made his stage debut playing a tortured teenager in Peter Shaffer's \"Equus.\" Meanwhile, he is braced for even closer media scrutiny now that he's legally an adult: \"I just think I'm going to be more sort of fair game,\" he told Reuters. E-mail to a friend . Copyright 2007 Reuters. All rights reserved.This material may not be published, broadcast, rewritten, or redistributed."
            ]
          },
          "metadata": {}
        }
      ]
    },
    {
      "cell_type": "markdown",
      "source": [
        "# An Abstractive Approach:  Seq2Seq\n",
        "\n",
        "This approach uses the famous sequence to sequence nueral network."
      ],
      "metadata": {
        "id": "85-JXz3B22Wr"
      }
    },
    {
      "cell_type": "code",
      "source": [
        "def preprocessed(text: str) -> str:\n",
        "    text = re.sub(r'\\.(?=[^ \\W\\d])', '. ', str(text))\n",
        "    text = re.sub(r'[^\\w\\s]', '', text)\n",
        "    text = \" \".join([word.strip() for word in text.split()])\n",
        "    text = contractions.fix(text.lower())   \n",
        "    tokens = text.split()\n",
        "    stemmer = nltk.stem.porter.PorterStemmer()\n",
        "    tokens = [stemmer.stem(word) for word in tokens]\n",
        "    lem = nltk.stem.wordnet.WordNetLemmatizer()\n",
        "    tokens = [lem.lemmatize(word) for word in tokens]\n",
        "    stopwords = [\"cnn\",\"say\",\"said\",\"new\"] + list(STOP_WORDS)\n",
        "    tokens = [word for word in tokens if word not in stopwords]\n",
        "    return \" \".join(tokens)"
      ],
      "metadata": {
        "id": "-HZT9DUc2tRS"
      },
      "execution_count": null,
      "outputs": []
    },
    {
      "cell_type": "code",
      "source": [
        "df_train[\"text_clean\"] = df_train[\"text\"].apply(preprocessed)\n",
        "df_train[\"y_clean\"] = df_train[\"y\"].apply(preprocessed)\n",
        "df_test[\"text_clean\"] = df_test[\"text\"].apply(preprocessed)\n",
        "df_test[\"y_clean\"] = df_test[\"y\"].apply(preprocessed)"
      ],
      "metadata": {
        "id": "naOtE5a15PvL",
        "colab": {
          "base_uri": "https://localhost:8080/"
        },
        "outputId": "f7118797-72b8-4186-9b8a-db28de89b8e7"
      },
      "execution_count": null,
      "outputs": [
        {
          "output_type": "stream",
          "name": "stderr",
          "text": [
            "/usr/local/lib/python3.7/dist-packages/ipykernel_launcher.py:1: SettingWithCopyWarning: \n",
            "A value is trying to be set on a copy of a slice from a DataFrame.\n",
            "Try using .loc[row_indexer,col_indexer] = value instead\n",
            "\n",
            "See the caveats in the documentation: https://pandas.pydata.org/pandas-docs/stable/user_guide/indexing.html#returning-a-view-versus-a-copy\n",
            "  \"\"\"Entry point for launching an IPython kernel.\n",
            "/usr/local/lib/python3.7/dist-packages/ipykernel_launcher.py:2: SettingWithCopyWarning: \n",
            "A value is trying to be set on a copy of a slice from a DataFrame.\n",
            "Try using .loc[row_indexer,col_indexer] = value instead\n",
            "\n",
            "See the caveats in the documentation: https://pandas.pydata.org/pandas-docs/stable/user_guide/indexing.html#returning-a-view-versus-a-copy\n",
            "  \n",
            "/usr/local/lib/python3.7/dist-packages/ipykernel_launcher.py:3: SettingWithCopyWarning: \n",
            "A value is trying to be set on a copy of a slice from a DataFrame.\n",
            "Try using .loc[row_indexer,col_indexer] = value instead\n",
            "\n",
            "See the caveats in the documentation: https://pandas.pydata.org/pandas-docs/stable/user_guide/indexing.html#returning-a-view-versus-a-copy\n",
            "  This is separate from the ipykernel package so we can avoid doing imports until\n",
            "/usr/local/lib/python3.7/dist-packages/ipykernel_launcher.py:4: SettingWithCopyWarning: \n",
            "A value is trying to be set on a copy of a slice from a DataFrame.\n",
            "Try using .loc[row_indexer,col_indexer] = value instead\n",
            "\n",
            "See the caveats in the documentation: https://pandas.pydata.org/pandas-docs/stable/user_guide/indexing.html#returning-a-view-versus-a-copy\n",
            "  after removing the cwd from sys.path.\n"
          ]
        }
      ]
    },
    {
      "cell_type": "code",
      "source": [
        "def frequency(column):\n",
        "  tokens = nltk.tokenize.word_tokenize(column.str.cat(sep=\" \"))\n",
        "  ngrams = [1]\n",
        "  df_freq = pd.DataFrame()\n",
        "  for n in ngrams:\n",
        "    dic_words_freq = nltk.FreqDist(nltk.ngrams(tokens, n))\n",
        "    df_n = pd.DataFrame(dic_words_freq.most_common(), columns=\n",
        "                          [\"word\",\"freq\"])\n",
        "    df_n[\"ngrams\"] = n\n",
        "    df_freq = df_freq.append(df_n)\n",
        "    df_freq[\"word\"] = df_freq[\"word\"].apply(lambda x: \" \".join(string for string in x))\n",
        "    df_freq_X = df_freq.sort_values([\"ngrams\",\"freq\"], ascending=\n",
        "                          [True,False])\n",
        "  return df_freq, df_freq_X"
      ],
      "metadata": {
        "id": "cKrj_9B95lsz"
      },
      "execution_count": null,
      "outputs": []
    },
    {
      "cell_type": "code",
      "source": [
        "df_freq_x = frequency(df_train[\"text_clean\"])[1]\n",
        "df_freq_y = frequency(df_train[\"y_clean\"])[1]"
      ],
      "metadata": {
        "id": "XdZ81DfU_eiw"
      },
      "execution_count": null,
      "outputs": []
    },
    {
      "cell_type": "code",
      "source": [
        "sns.barplot(x=\"freq\", y=\"word\", hue=\"ngrams\", dodge=False,\n",
        " data=frequency(df_train[\"text_clean\"])[0].groupby('ngrams')[\"ngrams\",\"freq\",\"word\"].head(30))\n",
        "plt.show()\n",
        "\n",
        "sns.barplot(x=\"freq\", y=\"word\", hue=\"ngrams\", dodge=False,\n",
        " data=frequency(df_train[\"y_clean\"])[0].groupby('ngrams')[\"ngrams\",\"freq\",\"word\"].head(30))\n",
        "plt.show()"
      ],
      "metadata": {
        "colab": {
          "base_uri": "https://localhost:8080/",
          "height": 629
        },
        "id": "qJiyLukP-I57",
        "outputId": "79763914-d545-4776-bb18-b11c36d754c2"
      },
      "execution_count": null,
      "outputs": [
        {
          "output_type": "stream",
          "name": "stderr",
          "text": [
            "/usr/local/lib/python3.7/dist-packages/ipykernel_launcher.py:2: FutureWarning: Indexing with multiple keys (implicitly converted to a tuple of keys) will be deprecated, use a list instead.\n",
            "  \n"
          ]
        },
        {
          "output_type": "display_data",
          "data": {
            "text/plain": [
              "<Figure size 432x288 with 1 Axes>"
            ],
            "image/png": "[encoded data removed]"
          },
          "metadata": {
            "needs_background": "light"
          }
        },
        {
          "output_type": "stream",
          "name": "stderr",
          "text": [
            "/usr/local/lib/python3.7/dist-packages/ipykernel_launcher.py:6: FutureWarning: Indexing with multiple keys (implicitly converted to a tuple of keys) will be deprecated, use a list instead.\n",
            "  \n"
          ]
        },
        {
          "output_type": "display_data",
          "data": {
            "text/plain": [
              "<Figure size 432x288 with 1 Axes>"
            ],
            "image/png": "[encoded data removed]"
          },
          "metadata": {
            "needs_background": "light"
          }
        }
      ]
    },
    {
      "cell_type": "code",
      "source": [
        "thres = 5 #<-- min frequency\n",
        "X_top_words = len(df_freq_x[df_freq_x[\"freq\"] > thres])\n",
        "y_top_words = len(df_freq_y[df_freq_y[\"freq\"] > thres])\n",
        "\n",
        "X_top_words, y_top_words"
      ],
      "metadata": {
        "id": "2YlzY5rG8boo",
        "colab": {
          "base_uri": "https://localhost:8080/"
        },
        "outputId": "9ffaf56b-2487-476f-8e9f-c79f1e7b4d9c"
      },
      "execution_count": null,
      "outputs": [
        {
          "output_type": "execute_result",
          "data": {
            "text/plain": [
              "(878, 18)"
            ]
          },
          "metadata": {},
          "execution_count": 61
        }
      ]
    },
    {
      "cell_type": "code",
      "source": [
        "lst_corpus = df_train[\"text_clean\"]\n",
        "tokenizer = kprocessing.text.Tokenizer(num_words=X_top_words, lower=False, split=' ', oov_token=None, \n",
        "filters='!\"#$%&()*+,-./:;<=>?@[\\\\]^_`{|}~\\t\\n')\n",
        "tokenizer.fit_on_texts(lst_corpus)\n",
        "X_dic_vocabulary = {\"<PAD>\":0}\n",
        "X_dic_vocabulary.update(tokenizer.word_index)\n",
        "lst_text2seq= tokenizer.texts_to_sequences(lst_corpus)\n",
        "X_train = kprocessing.sequence.pad_sequences(lst_text2seq, \n",
        "                    maxlen=15, padding=\"post\", truncating=\"post\")\n",
        "fitted_tokenizer = tokenizer"
      ],
      "metadata": {
        "id": "kEU4tnIb9wql"
      },
      "execution_count": null,
      "outputs": []
    },
    {
      "cell_type": "code",
      "source": [
        "lst_corpus = df_train[\"y_clean\"]\n",
        "tokenizer = kprocessing.text.Tokenizer(num_words=y_top_words, lower=False, split=' ', oov_token=None, \n",
        "filters='!\"#$%&()*+,-./:;<=>?@[\\\\]^_`{|}~\\t\\n')\n",
        "tokenizer.fit_on_texts(lst_corpus)\n",
        "y_dic_vocabulary = {\"<PAD>\":0}\n",
        "y_dic_vocabulary.update(tokenizer.word_index)\n",
        "lst_text2seq= tokenizer.texts_to_sequences(lst_corpus)\n",
        "y_train = kprocessing.sequence.pad_sequences(lst_text2seq, \n",
        "                    maxlen=15, padding=\"post\", truncating=\"post\")"
      ],
      "metadata": {
        "id": "8NlFLNDuJaUE"
      },
      "execution_count": null,
      "outputs": []
    },
    {
      "cell_type": "code",
      "source": [
        "## text to sequence with the fitted tokenizer\n",
        "lst_text2seq = tokenizer.texts_to_sequences(df_test[\"text_clean\"])\n",
        "## padding sequence\n",
        "X_test = kprocessing.sequence.pad_sequences(lst_text2seq, maxlen=15,\n",
        "             padding=\"post\", truncating=\"post\")"
      ],
      "metadata": {
        "id": "rtQ0xJrI918y"
      },
      "execution_count": null,
      "outputs": []
    },
    {
      "cell_type": "code",
      "source": [
        "special_tokens = (\"<START>\", \"<END>\")\n",
        "df_train[\"y_clean\"] = df_train['y_clean'].apply(lambda x: \n",
        "                     special_tokens[0]+' '+x+' '+special_tokens[1])\n",
        "df_test[\"y_clean\"] = df_test['y_clean'].apply(lambda x: \n",
        "                     special_tokens[0]+' '+x+' '+special_tokens[1])"
      ],
      "metadata": {
        "colab": {
          "base_uri": "https://localhost:8080/"
        },
        "id": "_oMKZE3Q97qX",
        "outputId": "12dce49c-5c06-47cf-9e20-4eb8bab9e0c2"
      },
      "execution_count": null,
      "outputs": [
        {
          "output_type": "stream",
          "name": "stderr",
          "text": [
            "/usr/local/lib/python3.7/dist-packages/ipykernel_launcher.py:2: SettingWithCopyWarning: \n",
            "A value is trying to be set on a copy of a slice from a DataFrame.\n",
            "Try using .loc[row_indexer,col_indexer] = value instead\n",
            "\n",
            "See the caveats in the documentation: https://pandas.pydata.org/pandas-docs/stable/user_guide/indexing.html#returning-a-view-versus-a-copy\n",
            "  \n",
            "/usr/local/lib/python3.7/dist-packages/ipykernel_launcher.py:4: SettingWithCopyWarning: \n",
            "A value is trying to be set on a copy of a slice from a DataFrame.\n",
            "Try using .loc[row_indexer,col_indexer] = value instead\n",
            "\n",
            "See the caveats in the documentation: https://pandas.pydata.org/pandas-docs/stable/user_guide/indexing.html#returning-a-view-versus-a-copy\n",
            "  after removing the cwd from sys.path.\n"
          ]
        }
      ]
    },
    {
      "cell_type": "code",
      "source": [
        "tokenizer.fit_on_texts(df_train[\"y_clean\"])\n",
        "fitted_tokenizer = tokenizer"
      ],
      "metadata": {
        "id": "oLcOsjY5MmGN"
      },
      "execution_count": null,
      "outputs": []
    },
    {
      "cell_type": "code",
      "source": [
        "import gensim.downloader as api\n",
        "nlp = api.load(\"glove-wiki-gigaword-300\")"
      ],
      "metadata": {
        "id": "FGY3w1yNBcG3"
      },
      "execution_count": null,
      "outputs": []
    },
    {
      "cell_type": "code",
      "source": [
        "lstm_units = 250\n",
        "embeddings_size = 300\n",
        "##------------ ENCODER (embedding + lstm) ------------------------##\n",
        "x_in = layers.Input(name=\"x_in\", shape=(X_train.shape[1],))\n",
        "### embedding\n",
        "layer_x_emb = layers.Embedding(name=\"x_emb\", \n",
        "                               input_dim=len(X_dic_vocabulary),\n",
        "                               output_dim=embeddings_size, \n",
        "                               trainable=True)\n",
        "x_emb = layer_x_emb(x_in)\n",
        "### lstm \n",
        "layer_x_lstm = layers.LSTM(name=\"x_lstm\", units=lstm_units, \n",
        "                           dropout=0.4, return_sequences=True, \n",
        "                           return_state=True)\n",
        "x_out, state_h, state_c = layer_x_lstm(x_emb)\n",
        "##------------ DECODER (embedding + lstm + dense) ----------------##\n",
        "y_in = layers.Input(name=\"y_in\", shape=(None,))\n",
        "### embedding\n",
        "layer_y_emb = layers.Embedding(name=\"y_emb\", \n",
        "                               input_dim=len(y_dic_vocabulary), \n",
        "                               output_dim=embeddings_size, \n",
        "                               trainable=True)\n",
        "y_emb = layer_y_emb(y_in)\n",
        "### lstm \n",
        "layer_y_lstm = layers.LSTM(name=\"y_lstm\", units=lstm_units, \n",
        "                           dropout=0.4, return_sequences=True, \n",
        "                           return_state=True)\n",
        "y_out, _, _ = layer_y_lstm(y_emb, initial_state=[state_h, state_c])\n",
        "### final dense layers\n",
        "layer_dense = layers.TimeDistributed(name=\"dense\",          layer=layers.Dense(units=len(y_dic_vocabulary), activation='softmax'))\n",
        "y_out = layer_dense(y_out)\n",
        "##---------------------------- COMPILE ---------------------------##\n",
        "model = models.Model(inputs=[x_in, y_in], outputs=y_out, \n",
        "                     name=\"Seq2Seq\")\n",
        "model.compile(optimizer='rmsprop',\n",
        "              loss='sparse_categorical_crossentropy', \n",
        "              metrics=['accuracy'])\n",
        "model.summary()"
      ],
      "metadata": {
        "colab": {
          "base_uri": "https://localhost:8080/"
        },
        "id": "su_Zi4-sDo3n",
        "outputId": "9b91cc81-294d-488a-d77c-a782f29d01e9"
      },
      "execution_count": null,
      "outputs": [
        {
          "output_type": "stream",
          "name": "stdout",
          "text": [
            "Model: \"Seq2Seq\"\n",
            "__________________________________________________________________________________________________\n",
            " Layer (type)                   Output Shape         Param #     Connected to                     \n",
            "==================================================================================================\n",
            " x_in (InputLayer)              [(None, 15)]         0           []                               \n",
            "                                                                                                  \n",
            " y_in (InputLayer)              [(None, None)]       0           []                               \n",
            "                                                                                                  \n",
            " x_emb (Embedding)              (None, 15, 300)      1561200     ['x_in[0][0]']                   \n",
            "                                                                                                  \n",
            " y_emb (Embedding)              (None, None, 300)    288900      ['y_in[0][0]']                   \n",
            "                                                                                                  \n",
            " x_lstm (LSTM)                  [(None, 15, 250),    551000      ['x_emb[0][0]']                  \n",
            "                                 (None, 250),                                                     \n",
            "                                 (None, 250)]                                                     \n",
            "                                                                                                  \n",
            " y_lstm (LSTM)                  [(None, None, 250),  551000      ['y_emb[0][0]',                  \n",
            "                                 (None, 250),                     'x_lstm[0][1]',                 \n",
            "                                 (None, 250)]                     'x_lstm[0][2]']                 \n",
            "                                                                                                  \n",
            " dense (TimeDistributed)        (None, None, 963)    241713      ['y_lstm[0][0]']                 \n",
            "                                                                                                  \n",
            "==================================================================================================\n",
            "Total params: 3,193,813\n",
            "Trainable params: 3,193,813\n",
            "Non-trainable params: 0\n",
            "__________________________________________________________________________________________________\n"
          ]
        }
      ]
    },
    {
      "cell_type": "code",
      "source": [
        "# Prediction Encoder\n",
        "encoder_model = models.Model(inputs=x_in, outputs=[x_out, state_h, state_c], name=\"Prediction_Encoder\")\n",
        "encoder_model.summary()"
      ],
      "metadata": {
        "colab": {
          "base_uri": "https://localhost:8080/"
        },
        "id": "s1QJXh_wKNuo",
        "outputId": "765ba94f-ed9d-4bba-e00e-7793f234af14"
      },
      "execution_count": null,
      "outputs": [
        {
          "output_type": "stream",
          "name": "stdout",
          "text": [
            "Model: \"Prediction_Encoder\"\n",
            "_________________________________________________________________\n",
            " Layer (type)                Output Shape              Param #   \n",
            "=================================================================\n",
            " x_in (InputLayer)           [(None, 15)]              0         \n",
            "                                                                 \n",
            " x_emb (Embedding)           (None, 15, 300)           1561200   \n",
            "                                                                 \n",
            " x_lstm (LSTM)               [(None, 15, 250),         551000    \n",
            "                              (None, 250),                       \n",
            "                              (None, 250)]                       \n",
            "                                                                 \n",
            "=================================================================\n",
            "Total params: 2,112,200\n",
            "Trainable params: 2,112,200\n",
            "Non-trainable params: 0\n",
            "_________________________________________________________________\n"
          ]
        }
      ]
    },
    {
      "cell_type": "code",
      "source": [
        "# Prediction Decoder\n",
        "## double the lstm units if you used bidirectional lstm\n",
        "lstm_units = lstm_units*2 if any(\"Bidirectional\" in str(layer) for layer in model.layers) else lstm_units\n",
        "## states of the previous time step\n",
        "encoder_out = layers.Input(shape=(X_train.shape[1], lstm_units))\n",
        "state_h, state_c = layers.Input(shape=(lstm_units,)), layers.Input(shape=(lstm_units,))\n",
        "## decoder embeddings\n",
        "y_emb2 = layer_y_emb(y_in)\n",
        "## lstm to predict the next word\n",
        "y_out2, state_h2, state_c2 = layer_y_lstm(y_emb2, initial_state=[state_h, state_c])\n",
        "## softmax to generate probability distribution over the vocabulary\n",
        "probs = layer_dense(y_out2)\n",
        "## compile\n",
        "decoder_model = models.Model(inputs=[y_in, encoder_out, state_h, state_c], outputs=[probs, state_h2, state_c2], name=\"Prediction_Decoder\")\n",
        "decoder_model.summary()"
      ],
      "metadata": {
        "colab": {
          "base_uri": "https://localhost:8080/"
        },
        "id": "WTyyvYbUKjjF",
        "outputId": "2d6df44d-9cb9-43a6-c1b8-a0850509b480"
      },
      "execution_count": null,
      "outputs": [
        {
          "output_type": "stream",
          "name": "stdout",
          "text": [
            "Model: \"Prediction_Decoder\"\n",
            "__________________________________________________________________________________________________\n",
            " Layer (type)                   Output Shape         Param #     Connected to                     \n",
            "==================================================================================================\n",
            " y_in (InputLayer)              [(None, None)]       0           []                               \n",
            "                                                                                                  \n",
            " y_emb (Embedding)              (None, None, 300)    288900      ['y_in[0][0]']                   \n",
            "                                                                                                  \n",
            " input_2 (InputLayer)           [(None, 250)]        0           []                               \n",
            "                                                                                                  \n",
            " input_3 (InputLayer)           [(None, 250)]        0           []                               \n",
            "                                                                                                  \n",
            " y_lstm (LSTM)                  [(None, None, 250),  551000      ['y_emb[1][0]',                  \n",
            "                                 (None, 250),                     'input_2[0][0]',                \n",
            "                                 (None, 250)]                     'input_3[0][0]']                \n",
            "                                                                                                  \n",
            " input_1 (InputLayer)           [(None, 15, 250)]    0           []                               \n",
            "                                                                                                  \n",
            " dense (TimeDistributed)        (None, None, 963)    241713      ['y_lstm[1][0]']                 \n",
            "                                                                                                  \n",
            "==================================================================================================\n",
            "Total params: 1,081,613\n",
            "Trainable params: 1,081,613\n",
            "Non-trainable params: 0\n",
            "__________________________________________________________________________________________________\n"
          ]
        }
      ]
    },
    {
      "cell_type": "code",
      "source": [],
      "metadata": {
        "id": "VeJzq_ztLzfq"
      },
      "execution_count": null,
      "outputs": []
    },
    {
      "cell_type": "code",
      "source": [
        "# Predict\n",
        "max_seq_lenght = X_test.shape[1]\n",
        "predicted = []\n",
        "for x in X_test:\n",
        "   x = x.reshape(1,-1)\n",
        "   ## encode X\n",
        "   encoder_out, state_h, state_c = encoder_model.predict(x)\n",
        "   ## prepare loop\n",
        "   y_in = np.array([fitted_tokenizer.word_index[special_tokens[0]]])\n",
        "   predicted_text = \"\"\n",
        "   stop = False\n",
        "   while not stop:\n",
        "        ## predict dictionary probability distribution\n",
        "        probs, new_state_h, new_state_c = decoder_model.predict(\n",
        "                          [y_in, encoder_out, state_h, state_c])\n",
        "        \n",
        "        ## get predicted word\n",
        "        voc_idx = np.argmax(probs[0,-1,:])\n",
        "        pred_word = fitted_tokenizer.index_word[voc_idx]\n",
        "        \n",
        "        ## check stop\n",
        "        if (pred_word != special_tokens[1]) and (len(predicted_text.split()) < max_seq_lenght):\n",
        "            predicted_text = predicted_text +\" \"+ pred_word\n",
        "        else:\n",
        "            stop = True\n",
        "        \n",
        "        ## next\n",
        "        y_in = np.array([voc_idx])\n",
        "        state_h, state_c = new_state_h, new_state_c\n",
        "   predicted_text = predicted_text.replace(\n",
        "                    special_tokens[0],\"\").strip()\n",
        "   predicted.append(predicted_text)\n"
      ],
      "metadata": {
        "id": "yhfsTf88Kule"
      },
      "execution_count": null,
      "outputs": []
    },
    {
      "cell_type": "markdown",
      "source": [
        "# The Best Known Abstractive Approach: Using BART \n",
        "\n",
        "BART is an algot"
      ],
      "metadata": {
        "id": "ano6RPdDNBl-"
      }
    },
    {
      "cell_type": "code",
      "source": [
        "def bart(corpus):    \n",
        "    summarizer = transformers.pipeline(\"summarization\", model=\"facebook/bart-large-cnn\") \n",
        "    summaries = []\n",
        "    for text in corpus:\n",
        "      try:\n",
        "        summaries.append(summarizer(text, max_length=500, min_length=30, do_sample=False))\n",
        "      except:\n",
        "        summaries.append(\" \")\n",
        "    return [s[0][\"summary_text\"].replace(\" .\", \".\") for s in summaries]    "
      ],
      "metadata": {
        "id": "9Tcl9D0qKy-F"
      },
      "execution_count": null,
      "outputs": []
    },
    {
      "cell_type": "code",
      "source": [
        "predicted_summaries = bart(df_test[\"text\"])"
      ],
      "metadata": {
        "colab": {
          "base_uri": "https://localhost:8080/",
          "height": 420
        },
        "id": "uxuc_8VkVE-B",
        "outputId": "7181eeea-f7cf-4430-ba26-afacf11fe3d5"
      },
      "execution_count": null,
      "outputs": [
        {
          "output_type": "stream",
          "name": "stderr",
          "text": [
            "Token indices sequence length is longer than the specified maximum sequence length for this model (1196 > 1024). Running this sequence through the model will result in indexing errors\n",
            "Your max_length is set to 500, but you input_length is only 454. You might consider decreasing max_length manually, e.g. summarizer('...', max_length=227)\n",
            "Your max_length is set to 500, but you input_length is only 466. You might consider decreasing max_length manually, e.g. summarizer('...', max_length=233)\n",
            "Your max_length is set to 500, but you input_length is only 402. You might consider decreasing max_length manually, e.g. summarizer('...', max_length=201)\n",
            "Your max_length is set to 500, but you input_length is only 301. You might consider decreasing max_length manually, e.g. summarizer('...', max_length=150)\n",
            "Your max_length is set to 500, but you input_length is only 271. You might consider decreasing max_length manually, e.g. summarizer('...', max_length=135)\n",
            "Your max_length is set to 500, but you input_length is only 336. You might consider decreasing max_length manually, e.g. summarizer('...', max_length=168)\n",
            "Your max_length is set to 500, but you input_length is only 319. You might consider decreasing max_length manually, e.g. summarizer('...', max_length=159)\n"
          ]
        },
        {
          "output_type": "error",
          "ename": "TypeError",
          "evalue": "ignored",
          "traceback": [
            "\u001b[0;31m---------------------------------------------------------------------------\u001b[0m",
            "\u001b[0;31mTypeError\u001b[0m                                 Traceback (most recent call last)",
            "\u001b[0;32m<ipython-input-79-aabf38d5ec49>\u001b[0m in \u001b[0;36m<module>\u001b[0;34m\u001b[0m\n\u001b[0;32m----> 1\u001b[0;31m \u001b[0mpredicted_summaries\u001b[0m \u001b[0;34m=\u001b[0m \u001b[0mbart\u001b[0m\u001b[0;34m(\u001b[0m\u001b[0mdf_test\u001b[0m\u001b[0;34m[\u001b[0m\u001b[0;34m\"text\"\u001b[0m\u001b[0;34m]\u001b[0m\u001b[0;34m)\u001b[0m\u001b[0;34m\u001b[0m\u001b[0;34m\u001b[0m\u001b[0m\n\u001b[0m",
            "\u001b[0;32m<ipython-input-78-2b79711fc061>\u001b[0m in \u001b[0;36mbart\u001b[0;34m(corpus)\u001b[0m\n\u001b[1;32m      7\u001b[0m       \u001b[0;32mexcept\u001b[0m\u001b[0;34m:\u001b[0m\u001b[0;34m\u001b[0m\u001b[0;34m\u001b[0m\u001b[0m\n\u001b[1;32m      8\u001b[0m         \u001b[0msummaries\u001b[0m\u001b[0;34m.\u001b[0m\u001b[0mappend\u001b[0m\u001b[0;34m(\u001b[0m\u001b[0;34m\" \"\u001b[0m\u001b[0;34m)\u001b[0m\u001b[0;34m\u001b[0m\u001b[0;34m\u001b[0m\u001b[0m\n\u001b[0;32m----> 9\u001b[0;31m     \u001b[0;32mreturn\u001b[0m \u001b[0;34m[\u001b[0m\u001b[0ms\u001b[0m\u001b[0;34m[\u001b[0m\u001b[0;36m0\u001b[0m\u001b[0;34m]\u001b[0m\u001b[0;34m[\u001b[0m\u001b[0;34m\"summary_text\"\u001b[0m\u001b[0;34m]\u001b[0m\u001b[0;34m.\u001b[0m\u001b[0mreplace\u001b[0m\u001b[0;34m(\u001b[0m\u001b[0;34m\" .\"\u001b[0m\u001b[0;34m,\u001b[0m \u001b[0;34m\".\"\u001b[0m\u001b[0;34m)\u001b[0m \u001b[0;32mfor\u001b[0m \u001b[0ms\u001b[0m \u001b[0;32min\u001b[0m \u001b[0msummaries\u001b[0m\u001b[0;34m]\u001b[0m\u001b[0;34m\u001b[0m\u001b[0;34m\u001b[0m\u001b[0m\n\u001b[0m",
            "\u001b[0;32m<ipython-input-78-2b79711fc061>\u001b[0m in \u001b[0;36m<listcomp>\u001b[0;34m(.0)\u001b[0m\n\u001b[1;32m      7\u001b[0m       \u001b[0;32mexcept\u001b[0m\u001b[0;34m:\u001b[0m\u001b[0;34m\u001b[0m\u001b[0;34m\u001b[0m\u001b[0m\n\u001b[1;32m      8\u001b[0m         \u001b[0msummaries\u001b[0m\u001b[0;34m.\u001b[0m\u001b[0mappend\u001b[0m\u001b[0;34m(\u001b[0m\u001b[0;34m\" \"\u001b[0m\u001b[0;34m)\u001b[0m\u001b[0;34m\u001b[0m\u001b[0;34m\u001b[0m\u001b[0m\n\u001b[0;32m----> 9\u001b[0;31m     \u001b[0;32mreturn\u001b[0m \u001b[0;34m[\u001b[0m\u001b[0ms\u001b[0m\u001b[0;34m[\u001b[0m\u001b[0;36m0\u001b[0m\u001b[0;34m]\u001b[0m\u001b[0;34m[\u001b[0m\u001b[0;34m\"summary_text\"\u001b[0m\u001b[0;34m]\u001b[0m\u001b[0;34m.\u001b[0m\u001b[0mreplace\u001b[0m\u001b[0;34m(\u001b[0m\u001b[0;34m\" .\"\u001b[0m\u001b[0;34m,\u001b[0m \u001b[0;34m\".\"\u001b[0m\u001b[0;34m)\u001b[0m \u001b[0;32mfor\u001b[0m \u001b[0ms\u001b[0m \u001b[0;32min\u001b[0m \u001b[0msummaries\u001b[0m\u001b[0;34m]\u001b[0m\u001b[0;34m\u001b[0m\u001b[0;34m\u001b[0m\u001b[0m\n\u001b[0m",
            "\u001b[0;31mTypeError\u001b[0m: string indices must be integers"
          ]
        }
      ]
    },
    {
      "cell_type": "code",
      "source": [
        "sample_predicted_summary, sample_expected_summary = predicted_summaries[0], df_test[\"y\"][0]\n",
        "evaluate_summary(sample_predicted_summary, sample_expected_summary)\n",
        "print(f\"For {SAMPLES} summaaries:\")\n",
        "evaluate_summary(predicted_summaries, list(df_test[\"y\"]))"
      ],
      "metadata": {
        "id": "f3JKkAuhNU3H"
      },
      "execution_count": null,
      "outputs": []
    },
    {
      "cell_type": "code",
      "source": [
        "visualise_differance(sample_predicted_summary, df_test[\"text\"][0])"
      ],
      "metadata": {
        "id": "gH0QnJWVN0oW"
      },
      "execution_count": null,
      "outputs": []
    },
    {
      "cell_type": "markdown",
      "source": [
        "# Sentiment Analysis of Text\n",
        "\n",
        "Similar to the construction of any NLP model, this process would involve processing the data, tokenizing it and using the fitted tokenizer to transform it. \n",
        "\n",
        "For this part of the project we will heavily utilise the tensorflow library"
      ],
      "metadata": {
        "id": "OJw-H54JVo9n"
      }
    },
    {
      "cell_type": "code",
      "source": [
        "import pandas as pd\n",
        "import matplotlib.pyplot as plt\n",
        "\n",
        "from tensorflow.keras.preprocessing.text import Tokenizer\n",
        "from tensorflow.keras.preprocessing.sequence import pad_sequences\n",
        "from tensorflow.keras.models import Sequential\n",
        "from tensorflow.keras.layers import LSTM,Dense, Dropout, SpatialDropout1D\n",
        "from tensorflow.keras.layers import Embedding"
      ],
      "metadata": {
        "id": "V9nlfb_DN6yN"
      },
      "execution_count": null,
      "outputs": []
    },
    {
      "cell_type": "code",
      "source": [
        "sentiments = [\"positive\", \"negative\", \"nuetral\"]"
      ],
      "metadata": {
        "id": "HghDtn4BYiar"
      },
      "execution_count": null,
      "outputs": []
    },
    {
      "cell_type": "code",
      "source": [
        "texts = df_train[\"y\"]\n",
        "tokenizer = Tokenizer(num_words=5000)\n",
        "tokenizer.fit_on_texts(texts)\n",
        "vocab_size = len(tokenizer.word_index) + 1\n",
        "encoded_docs = tokenizer.texts_to_sequences(texts)\n",
        "padded_sequence = pad_sequences(encoded_docs, maxlen=200)"
      ],
      "metadata": {
        "id": "lUMYg6v5WGug"
      },
      "execution_count": null,
      "outputs": []
    },
    {
      "cell_type": "code",
      "source": [
        "embedding_vector_length = 32\n",
        "model = Sequential() \n",
        "model.add(Embedding(vocab_size, embedding_vector_length, input_length=200) )\n",
        "model.add(SpatialDropout1D(0.25))\n",
        "model.add(LSTM(50, dropout=0.5, recurrent_dropout=0.5))\n",
        "model.add(Dropout(0.2))\n",
        "model.add(Dense(1, activation='sigmoid')) \n",
        "model.compile(loss='binary_crossentropy',optimizer='adam', metrics=['accuracy'])  \n",
        "print(model.summary()) "
      ],
      "metadata": {
        "colab": {
          "base_uri": "https://localhost:8080/"
        },
        "id": "oOypjWAtWSmx",
        "outputId": "488f62a3-4b59-4b8d-a15e-8289a4738c4b"
      },
      "execution_count": null,
      "outputs": [
        {
          "output_type": "stream",
          "name": "stdout",
          "text": [
            "Model: \"sequential_1\"\n",
            "_________________________________________________________________\n",
            " Layer (type)                Output Shape              Param #   \n",
            "=================================================================\n",
            " embedding_1 (Embedding)     (None, 200, 32)           38848     \n",
            "                                                                 \n",
            " spatial_dropout1d_1 (Spatia  (None, 200, 32)          0         \n",
            " lDropout1D)                                                     \n",
            "                                                                 \n",
            " lstm_1 (LSTM)               (None, 50)                16600     \n",
            "                                                                 \n",
            " dropout_1 (Dropout)         (None, 50)                0         \n",
            "                                                                 \n",
            " dense_2 (Dense)             (None, 1)                 51        \n",
            "                                                                 \n",
            "=================================================================\n",
            "Total params: 55,499\n",
            "Trainable params: 55,499\n",
            "Non-trainable params: 0\n",
            "_________________________________________________________________\n",
            "None\n"
          ]
        }
      ]
    },
    {
      "cell_type": "code",
      "source": [
        "def predict_sentiment(text):\n",
        "    tw = tokenizer.texts_to_sequences([text])\n",
        "    tw = pad_sequences(tw,maxlen=200)\n",
        "    prediction = int(model.predict(tw).round().item())\n",
        "    return sentiments[prediction]"
      ],
      "metadata": {
        "id": "Ctkr_A4kXBeC"
      },
      "execution_count": null,
      "outputs": []
    },
    {
      "cell_type": "code",
      "source": [
        "df_test[\"sentiment\"] = [predict_sentiment(s) for s in df_test[\"y\"]]"
      ],
      "metadata": {
        "id": "MalMGArdXTk5"
      },
      "execution_count": null,
      "outputs": []
    },
    {
      "cell_type": "code",
      "source": [
        "df_test"
      ],
      "metadata": {
        "id": "3q-gQl_nX4lI"
      },
      "execution_count": null,
      "outputs": []
    },
    {
      "cell_type": "code",
      "source": [
        "predict_sentiment(\"Kalawati, the widow of a farmer who had committed suicide in Yavatmal managed to meet Rahul Gandhi, who had spoken of her in parliament in 2008, to thank him.\")"
      ],
      "metadata": {
        "colab": {
          "base_uri": "https://localhost:8080/",
          "height": 74
        },
        "id": "yjOruShZYf-8",
        "outputId": "d7e26be5-4287-416e-d9f6-9912bc9da529"
      },
      "execution_count": null,
      "outputs": [
        {
          "output_type": "stream",
          "name": "stdout",
          "text": [
            "1/1 [==============================] - 2s 2s/step\n"
          ]
        },
        {
          "output_type": "execute_result",
          "data": {
            "text/plain": [
              "'positive'"
            ],
            "application/vnd.google.colaboratory.intrinsic+json": {
              "type": "string"
            }
          },
          "metadata": {},
          "execution_count": 77
        }
      ]
    },
    {
      "cell_type": "code",
      "source": [],
      "metadata": {
        "id": "xe0XScTigZqn"
      },
      "execution_count": null,
      "outputs": []
    }
  ]
}